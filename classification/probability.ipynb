{
 "cells": [
  {
   "cell_type": "code",
   "execution_count": 1,
   "metadata": {},
   "outputs": [],
   "source": [
    "import os, torch \n",
    "import numpy as np\n",
    "from monai import transforms\n",
    "from torch.utils.data import DataLoader\n",
    "from dataset.prostateDataset import prostateDataset\n",
    "from models.resnet import generate_model"
   ]
  },
  {
   "cell_type": "code",
   "execution_count": 11,
   "metadata": {},
   "outputs": [
    {
     "name": "stderr",
     "output_type": "stream",
     "text": [
      "/Users/qixinhu/Project/CUHK/Prostate/ProstateInitialSub/classification/models/resnet.py:173: UserWarning: nn.init.kaiming_normal is now deprecated in favor of nn.init.kaiming_normal_.\n",
      "  m.weight = nn.init.kaiming_normal(m.weight, mode='fan_out')\n"
     ]
    }
   ],
   "source": [
    "def _get_data_loader(modality):\n",
    "    file_root = \"/Users/qixinhu/Project/CUHK/Prostate/PAIsData/0426/qixin/CLS\"\n",
    "    file_list = sorted(os.listdir(os.path.join(file_root, modality)))\n",
    "            \n",
    "    test_images = []\n",
    "    for sample in file_list:\n",
    "        test_images.append(os.path.join(file_root, modality, sample))\n",
    "    test_img_transform = transforms.Compose(\n",
    "        [\n",
    "            transforms.EnsureChannelFirst(channel_dim=\"no_channel\"),\n",
    "        ]\n",
    "    )\n",
    "    test_ds = prostateDataset(npz_files=test_images, img_transforms=test_img_transform, seg_transforms=None)\n",
    "    test_loader = DataLoader(test_ds, batch_size=1, shuffle=False,num_workers=0, pin_memory=True)\n",
    "    return test_loader\n",
    "\n",
    "n_classes = 2\n",
    "model_depth = 18\n",
    "modality = 'ALL'\n",
    "model = generate_model(model_depth=model_depth,\n",
    "                    input_H=128, input_W=128, input_D=36, n_classes=n_classes)\n",
    "model.load_state_dict(torch.load(f\"runs/{modality}/resnet18/model_best.pt\", map_location='cpu'))\n",
    "model.eval()\n",
    "check_loder = _get_data_loader(modality)\n",
    "check_batch = next(iter(check_loder))"
   ]
  },
  {
   "cell_type": "code",
   "execution_count": 12,
   "metadata": {},
   "outputs": [],
   "source": [
    "with torch.no_grad():\n",
    "    check_image = check_batch['image']\n",
    "    check_pred  = model(check_image)"
   ]
  },
  {
   "cell_type": "code",
   "execution_count": null,
   "metadata": {},
   "outputs": [],
   "source": []
  }
 ],
 "metadata": {
  "kernelspec": {
   "display_name": "pytorch",
   "language": "python",
   "name": "python3"
  },
  "language_info": {
   "codemirror_mode": {
    "name": "ipython",
    "version": 3
   },
   "file_extension": ".py",
   "mimetype": "text/x-python",
   "name": "python",
   "nbconvert_exporter": "python",
   "pygments_lexer": "ipython3",
   "version": "3.9.18"
  }
 },
 "nbformat": 4,
 "nbformat_minor": 2
}
