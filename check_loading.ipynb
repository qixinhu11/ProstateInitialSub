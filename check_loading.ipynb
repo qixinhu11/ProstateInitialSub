{
 "cells": [
  {
   "cell_type": "code",
   "execution_count": 9,
   "metadata": {},
   "outputs": [],
   "source": [
    "import torch, os\n",
    "from monai.networks.nets import SegResNet\n",
    "from monai import transforms\n",
    "from my_segmentation.ProstateSeg.dataset.prostateSeg import prostateSeg\n",
    "from monai.data import DataLoader, decollate_batch\n"
   ]
  },
  {
   "cell_type": "code",
   "execution_count": 10,
   "metadata": {},
   "outputs": [],
   "source": [
    "def _get_loader():\n",
    "    file_root = \"/Users/qixinhu/Project/CUHK/Prostate/PAIsData/0426/qixin/SEG\"\n",
    "    test_samples = []\n",
    "    with open(os.path.join(file_root,'test_case_level.txt'), 'r') as f:\n",
    "        lines = f.readlines()\n",
    "        for line in lines:\n",
    "            sample = os.path.join(file_root, line.strip() + '.npz')\n",
    "            test_samples.append(sample)\n",
    "\n",
    "    val_img_transform = transforms.Compose(\n",
    "        [\n",
    "            transforms.EnsureChannelFirst(channel_dim=0),\n",
    "        ]\n",
    "    )\n",
    "    val_seg_transform = transforms.Compose(\n",
    "        [\n",
    "            transforms.EnsureChannelFirst(channel_dim=0),\n",
    "\n",
    "        ]\n",
    "    )\n",
    "\n",
    "    test_ds = prostateSeg(npz_files=test_samples, modality=3, img_transforms=val_img_transform, seg_transforms=val_seg_transform)\n",
    "    test_loader = DataLoader(test_ds, batch_size=1, shuffle=False,num_workers=0, pin_memory=True)\n",
    "\n",
    "    return test_loader"
   ]
  },
  {
   "cell_type": "code",
   "execution_count": 11,
   "metadata": {},
   "outputs": [],
   "source": [
    "test_loader = _get_loader()"
   ]
  },
  {
   "cell_type": "code",
   "execution_count": 12,
   "metadata": {},
   "outputs": [],
   "source": [
    "test_batch = next(iter(test_loader))"
   ]
  },
  {
   "cell_type": "code",
   "execution_count": 19,
   "metadata": {},
   "outputs": [
    {
     "data": {
      "text/plain": [
       "torch.Size([1, 1, 224, 224, 30])"
      ]
     },
     "execution_count": 19,
     "metadata": {},
     "output_type": "execute_result"
    }
   ],
   "source": [
    "test_batch['label'].shape"
   ]
  }
 ],
 "metadata": {
  "kernelspec": {
   "display_name": "pytorch",
   "language": "python",
   "name": "python3"
  },
  "language_info": {
   "codemirror_mode": {
    "name": "ipython",
    "version": 3
   },
   "file_extension": ".py",
   "mimetype": "text/x-python",
   "name": "python",
   "nbconvert_exporter": "python",
   "pygments_lexer": "ipython3",
   "version": "3.9.18"
  }
 },
 "nbformat": 4,
 "nbformat_minor": 2
}
