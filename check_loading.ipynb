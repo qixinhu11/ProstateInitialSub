{
 "cells": [
  {
   "cell_type": "code",
   "execution_count": 7,
   "metadata": {},
   "outputs": [],
   "source": [
    "import torch, os\n",
    "from monai.networks.nets import SegResNet\n",
    "from monai import transforms\n",
    "from my_segmentation.ProstateSeg.dataset.prostateSeg import prostateSeg\n",
    "from monai.data import DataLoader, decollate_batch\n",
    "from monai.losses import DiceCELoss, DiceLoss"
   ]
  },
  {
   "cell_type": "code",
   "execution_count": 10,
   "metadata": {},
   "outputs": [],
   "source": [
    "def _get_loader(modality):\n",
    "    file_root = \"/Users/qixinhu/Project/CUHK/Prostate/PAIsData/0426/qixin/SEG\"\n",
    "    train_samples = []\n",
    "    with open(os.path.join(file_root,'train_case_level.txt'), 'r') as f:\n",
    "        lines = f.readlines()\n",
    "        for line in lines:\n",
    "            sample = os.path.join(file_root, line.strip() + '.npz')\n",
    "            train_samples.append(sample)\n",
    "\n",
    "    test_samples = []\n",
    "    with open(os.path.join(file_root,'test_case_level.txt'), 'r') as f:\n",
    "        lines = f.readlines()\n",
    "        for line in lines:\n",
    "            sample = os.path.join(file_root, line.strip() + '.npz')\n",
    "            test_samples.append(sample)\n",
    "\n",
    "    x = 128\n",
    "    y = 128\n",
    "    z = 16\n",
    "\n",
    "\n",
    "    train_img_transform = transforms.Compose(\n",
    "        [\n",
    "            transforms.EnsureChannelFirst(channel_dim=0),\n",
    "            transforms.RandSpatialCrop(roi_size=[x, y, z], random_size=False),\n",
    "            transforms.RandFlip(prob=0.5, spatial_axis=0),\n",
    "            transforms.RandFlip(prob=0.5, spatial_axis=1),\n",
    "            transforms.RandFlip(prob=0.5, spatial_axis=2),\n",
    "            transforms.RandScaleIntensity(factors=0.1, prob=0.3),\n",
    "            transforms.RandShiftIntensity(offsets=0.1, prob=0.3),\n",
    "        ]\n",
    "    )\n",
    "    train_seg_transform = transforms.Compose(\n",
    "        [\n",
    "            transforms.EnsureChannelFirst(channel_dim=0),\n",
    "            transforms.RandSpatialCrop(roi_size=[x, y, z], random_size=False),\n",
    "            transforms.RandFlip(prob=0.5, spatial_axis=0),\n",
    "            transforms.RandFlip(prob=0.5, spatial_axis=1),\n",
    "            transforms.RandFlip(prob=0.5, spatial_axis=2),\n",
    "        ]\n",
    "    )\n",
    "\n",
    "    val_img_transform = transforms.Compose(\n",
    "        [\n",
    "            transforms.EnsureChannelFirst(channel_dim=0),\n",
    "        ]\n",
    "    )\n",
    "\n",
    "    val_seg_transform = transforms.Compose(\n",
    "        [\n",
    "            transforms.EnsureChannelFirst(channel_dim=0),\n",
    "        ]\n",
    "    )\n",
    "\n",
    "    train_ds = prostateSeg(npz_files=train_samples, modality=modality, img_transforms=train_img_transform, seg_transforms=train_seg_transform)\n",
    "    train_loader = DataLoader(train_ds, batch_size=4, shuffle=True,num_workers=0, pin_memory=True)\n",
    "\n",
    "    test_ds = prostateSeg(npz_files=test_samples, modality=modality, img_transforms=val_img_transform, seg_transforms=val_seg_transform)\n",
    "    test_loader = DataLoader(test_ds, batch_size=1, shuffle=False,num_workers=0, pin_memory=True)\n",
    "\n",
    "    return train_loader, test_loader\n",
    "\n",
    "def _get_model(modality):\n",
    "    # model = UNet3D(in_channel=3)\n",
    "    if modality in [0, 1, 2]:\n",
    "        in_channels=1\n",
    "    else:\n",
    "        in_channels=3\n",
    "\n",
    "    model = SegResNet(\n",
    "        blocks_down=[1, 2, 2, 4],\n",
    "        blocks_up=[1, 1, 1],\n",
    "        init_filters=16,\n",
    "        in_channels=in_channels,\n",
    "        out_channels=2,\n",
    "        dropout_prob=0.2,\n",
    "    )\n",
    "\n",
    "    return model\n",
    "\n",
    "train_loader, test_loader = _get_loader(2)\n",
    "model = _get_model(2)\n",
    "loss_function = DiceCELoss(to_onehot_y=True,sigmoid=True)"
   ]
  },
  {
   "cell_type": "code",
   "execution_count": 15,
   "metadata": {},
   "outputs": [
    {
     "name": "stdout",
     "output_type": "stream",
     "text": [
      "torch.Size([4, 1, 128, 128, 16]) torch.Size([4, 1, 128, 128, 16]) tensor(1.) 1.8182706832885742\n",
      "torch.Size([4, 1, 128, 128, 16]) torch.Size([4, 1, 128, 128, 16]) tensor(1.) 1.8181843757629395\n",
      "torch.Size([4, 1, 128, 128, 16]) torch.Size([4, 1, 128, 128, 16]) tensor(1.) 1.8171238899230957\n",
      "torch.Size([4, 1, 128, 128, 16]) torch.Size([4, 1, 128, 128, 16]) tensor(1.) 1.7830054759979248\n",
      "torch.Size([4, 1, 128, 128, 16]) torch.Size([4, 1, 128, 128, 16]) tensor(1.) 1.8253315687179565\n",
      "torch.Size([4, 1, 128, 128, 16]) torch.Size([4, 1, 128, 128, 16]) tensor(1.) 1.7598052024841309\n",
      "torch.Size([4, 1, 128, 128, 16]) torch.Size([4, 1, 128, 128, 16]) tensor(1.) 1.8432488441467285\n",
      "torch.Size([4, 1, 128, 128, 16]) torch.Size([4, 1, 128, 128, 16]) tensor(1.) 1.8146288394927979\n",
      "torch.Size([4, 1, 128, 128, 16]) torch.Size([4, 1, 128, 128, 16]) tensor(1.) 1.755708932876587\n",
      "torch.Size([4, 1, 128, 128, 16]) torch.Size([4, 1, 128, 128, 16]) tensor(1.) 1.8620753288269043\n",
      "torch.Size([4, 1, 128, 128, 16]) torch.Size([4, 1, 128, 128, 16]) tensor(1.) 1.786447286605835\n"
     ]
    },
    {
     "ename": "RuntimeError",
     "evalue": "index 2 is out of bounds for dimension 1 with size 2",
     "output_type": "error",
     "traceback": [
      "\u001b[0;31m---------------------------------------------------------------------------\u001b[0m",
      "\u001b[0;31mRuntimeError\u001b[0m                              Traceback (most recent call last)",
      "Cell \u001b[0;32mIn[15], line 4\u001b[0m\n\u001b[1;32m      2\u001b[0m x, y \u001b[38;5;241m=\u001b[39m batch[\u001b[38;5;124m\"\u001b[39m\u001b[38;5;124mimage\u001b[39m\u001b[38;5;124m\"\u001b[39m], batch[\u001b[38;5;124m\"\u001b[39m\u001b[38;5;124mlabel\u001b[39m\u001b[38;5;124m\"\u001b[39m]\u001b[38;5;241m.\u001b[39mfloat()\n\u001b[1;32m      3\u001b[0m logit_map \u001b[38;5;241m=\u001b[39m model(x)\n\u001b[0;32m----> 4\u001b[0m loss \u001b[38;5;241m=\u001b[39m \u001b[43mloss_function\u001b[49m\u001b[43m(\u001b[49m\u001b[43mlogit_map\u001b[49m\u001b[43m,\u001b[49m\u001b[43m \u001b[49m\u001b[43my\u001b[49m\u001b[43m)\u001b[49m\n\u001b[1;32m      5\u001b[0m \u001b[38;5;28mprint\u001b[39m(x\u001b[38;5;241m.\u001b[39mshape, y\u001b[38;5;241m.\u001b[39mshape, torch\u001b[38;5;241m.\u001b[39mmax(y), loss\u001b[38;5;241m.\u001b[39mitem())\n\u001b[1;32m      6\u001b[0m \u001b[38;5;66;03m# break\u001b[39;00m\n",
      "File \u001b[0;32m~/miniconda3/envs/pytorch/lib/python3.9/site-packages/torch/nn/modules/module.py:1501\u001b[0m, in \u001b[0;36mModule._call_impl\u001b[0;34m(self, *args, **kwargs)\u001b[0m\n\u001b[1;32m   1496\u001b[0m \u001b[38;5;66;03m# If we don't have any hooks, we want to skip the rest of the logic in\u001b[39;00m\n\u001b[1;32m   1497\u001b[0m \u001b[38;5;66;03m# this function, and just call forward.\u001b[39;00m\n\u001b[1;32m   1498\u001b[0m \u001b[38;5;28;01mif\u001b[39;00m \u001b[38;5;129;01mnot\u001b[39;00m (\u001b[38;5;28mself\u001b[39m\u001b[38;5;241m.\u001b[39m_backward_hooks \u001b[38;5;129;01mor\u001b[39;00m \u001b[38;5;28mself\u001b[39m\u001b[38;5;241m.\u001b[39m_backward_pre_hooks \u001b[38;5;129;01mor\u001b[39;00m \u001b[38;5;28mself\u001b[39m\u001b[38;5;241m.\u001b[39m_forward_hooks \u001b[38;5;129;01mor\u001b[39;00m \u001b[38;5;28mself\u001b[39m\u001b[38;5;241m.\u001b[39m_forward_pre_hooks\n\u001b[1;32m   1499\u001b[0m         \u001b[38;5;129;01mor\u001b[39;00m _global_backward_pre_hooks \u001b[38;5;129;01mor\u001b[39;00m _global_backward_hooks\n\u001b[1;32m   1500\u001b[0m         \u001b[38;5;129;01mor\u001b[39;00m _global_forward_hooks \u001b[38;5;129;01mor\u001b[39;00m _global_forward_pre_hooks):\n\u001b[0;32m-> 1501\u001b[0m     \u001b[38;5;28;01mreturn\u001b[39;00m \u001b[43mforward_call\u001b[49m\u001b[43m(\u001b[49m\u001b[38;5;241;43m*\u001b[39;49m\u001b[43margs\u001b[49m\u001b[43m,\u001b[49m\u001b[43m \u001b[49m\u001b[38;5;241;43m*\u001b[39;49m\u001b[38;5;241;43m*\u001b[39;49m\u001b[43mkwargs\u001b[49m\u001b[43m)\u001b[49m\n\u001b[1;32m   1502\u001b[0m \u001b[38;5;66;03m# Do not call functions when jit is used\u001b[39;00m\n\u001b[1;32m   1503\u001b[0m full_backward_hooks, non_full_backward_hooks \u001b[38;5;241m=\u001b[39m [], []\n",
      "File \u001b[0;32m~/miniconda3/envs/pytorch/lib/python3.9/site-packages/monai/losses/dice.py:735\u001b[0m, in \u001b[0;36mDiceCELoss.forward\u001b[0;34m(self, input, target)\u001b[0m\n\u001b[1;32m    729\u001b[0m \u001b[38;5;28;01mif\u001b[39;00m \u001b[38;5;28mlen\u001b[39m(\u001b[38;5;28minput\u001b[39m\u001b[38;5;241m.\u001b[39mshape) \u001b[38;5;241m!=\u001b[39m \u001b[38;5;28mlen\u001b[39m(target\u001b[38;5;241m.\u001b[39mshape):\n\u001b[1;32m    730\u001b[0m     \u001b[38;5;28;01mraise\u001b[39;00m \u001b[38;5;167;01mValueError\u001b[39;00m(\n\u001b[1;32m    731\u001b[0m         \u001b[38;5;124m\"\u001b[39m\u001b[38;5;124mthe number of dimensions for input and target should be the same, \u001b[39m\u001b[38;5;124m\"\u001b[39m\n\u001b[1;32m    732\u001b[0m         \u001b[38;5;124mf\u001b[39m\u001b[38;5;124m\"\u001b[39m\u001b[38;5;124mgot shape \u001b[39m\u001b[38;5;132;01m{\u001b[39;00m\u001b[38;5;28minput\u001b[39m\u001b[38;5;241m.\u001b[39mshape\u001b[38;5;132;01m}\u001b[39;00m\u001b[38;5;124m and \u001b[39m\u001b[38;5;132;01m{\u001b[39;00mtarget\u001b[38;5;241m.\u001b[39mshape\u001b[38;5;132;01m}\u001b[39;00m\u001b[38;5;124m.\u001b[39m\u001b[38;5;124m\"\u001b[39m\n\u001b[1;32m    733\u001b[0m     )\n\u001b[0;32m--> 735\u001b[0m dice_loss \u001b[38;5;241m=\u001b[39m \u001b[38;5;28;43mself\u001b[39;49m\u001b[38;5;241;43m.\u001b[39;49m\u001b[43mdice\u001b[49m\u001b[43m(\u001b[49m\u001b[38;5;28;43minput\u001b[39;49m\u001b[43m,\u001b[49m\u001b[43m \u001b[49m\u001b[43mtarget\u001b[49m\u001b[43m)\u001b[49m\n\u001b[1;32m    736\u001b[0m ce_loss \u001b[38;5;241m=\u001b[39m \u001b[38;5;28mself\u001b[39m\u001b[38;5;241m.\u001b[39mce(\u001b[38;5;28minput\u001b[39m, target)\n\u001b[1;32m    737\u001b[0m total_loss: torch\u001b[38;5;241m.\u001b[39mTensor \u001b[38;5;241m=\u001b[39m \u001b[38;5;28mself\u001b[39m\u001b[38;5;241m.\u001b[39mlambda_dice \u001b[38;5;241m*\u001b[39m dice_loss \u001b[38;5;241m+\u001b[39m \u001b[38;5;28mself\u001b[39m\u001b[38;5;241m.\u001b[39mlambda_ce \u001b[38;5;241m*\u001b[39m ce_loss\n",
      "File \u001b[0;32m~/miniconda3/envs/pytorch/lib/python3.9/site-packages/torch/nn/modules/module.py:1501\u001b[0m, in \u001b[0;36mModule._call_impl\u001b[0;34m(self, *args, **kwargs)\u001b[0m\n\u001b[1;32m   1496\u001b[0m \u001b[38;5;66;03m# If we don't have any hooks, we want to skip the rest of the logic in\u001b[39;00m\n\u001b[1;32m   1497\u001b[0m \u001b[38;5;66;03m# this function, and just call forward.\u001b[39;00m\n\u001b[1;32m   1498\u001b[0m \u001b[38;5;28;01mif\u001b[39;00m \u001b[38;5;129;01mnot\u001b[39;00m (\u001b[38;5;28mself\u001b[39m\u001b[38;5;241m.\u001b[39m_backward_hooks \u001b[38;5;129;01mor\u001b[39;00m \u001b[38;5;28mself\u001b[39m\u001b[38;5;241m.\u001b[39m_backward_pre_hooks \u001b[38;5;129;01mor\u001b[39;00m \u001b[38;5;28mself\u001b[39m\u001b[38;5;241m.\u001b[39m_forward_hooks \u001b[38;5;129;01mor\u001b[39;00m \u001b[38;5;28mself\u001b[39m\u001b[38;5;241m.\u001b[39m_forward_pre_hooks\n\u001b[1;32m   1499\u001b[0m         \u001b[38;5;129;01mor\u001b[39;00m _global_backward_pre_hooks \u001b[38;5;129;01mor\u001b[39;00m _global_backward_hooks\n\u001b[1;32m   1500\u001b[0m         \u001b[38;5;129;01mor\u001b[39;00m _global_forward_hooks \u001b[38;5;129;01mor\u001b[39;00m _global_forward_pre_hooks):\n\u001b[0;32m-> 1501\u001b[0m     \u001b[38;5;28;01mreturn\u001b[39;00m \u001b[43mforward_call\u001b[49m\u001b[43m(\u001b[49m\u001b[38;5;241;43m*\u001b[39;49m\u001b[43margs\u001b[49m\u001b[43m,\u001b[49m\u001b[43m \u001b[49m\u001b[38;5;241;43m*\u001b[39;49m\u001b[38;5;241;43m*\u001b[39;49m\u001b[43mkwargs\u001b[49m\u001b[43m)\u001b[49m\n\u001b[1;32m   1502\u001b[0m \u001b[38;5;66;03m# Do not call functions when jit is used\u001b[39;00m\n\u001b[1;32m   1503\u001b[0m full_backward_hooks, non_full_backward_hooks \u001b[38;5;241m=\u001b[39m [], []\n",
      "File \u001b[0;32m~/miniconda3/envs/pytorch/lib/python3.9/site-packages/monai/losses/dice.py:146\u001b[0m, in \u001b[0;36mDiceLoss.forward\u001b[0;34m(self, input, target)\u001b[0m\n\u001b[1;32m    144\u001b[0m         warnings\u001b[38;5;241m.\u001b[39mwarn(\u001b[38;5;124m\"\u001b[39m\u001b[38;5;124msingle channel prediction, `to_onehot_y=True` ignored.\u001b[39m\u001b[38;5;124m\"\u001b[39m)\n\u001b[1;32m    145\u001b[0m     \u001b[38;5;28;01melse\u001b[39;00m:\n\u001b[0;32m--> 146\u001b[0m         target \u001b[38;5;241m=\u001b[39m \u001b[43mone_hot\u001b[49m\u001b[43m(\u001b[49m\u001b[43mtarget\u001b[49m\u001b[43m,\u001b[49m\u001b[43m \u001b[49m\u001b[43mnum_classes\u001b[49m\u001b[38;5;241;43m=\u001b[39;49m\u001b[43mn_pred_ch\u001b[49m\u001b[43m)\u001b[49m\n\u001b[1;32m    148\u001b[0m \u001b[38;5;28;01mif\u001b[39;00m \u001b[38;5;129;01mnot\u001b[39;00m \u001b[38;5;28mself\u001b[39m\u001b[38;5;241m.\u001b[39minclude_background:\n\u001b[1;32m    149\u001b[0m     \u001b[38;5;28;01mif\u001b[39;00m n_pred_ch \u001b[38;5;241m==\u001b[39m \u001b[38;5;241m1\u001b[39m:\n",
      "File \u001b[0;32m~/miniconda3/envs/pytorch/lib/python3.9/site-packages/monai/networks/utils.py:159\u001b[0m, in \u001b[0;36mone_hot\u001b[0;34m(labels, num_classes, dtype, dim)\u001b[0m\n\u001b[1;32m    156\u001b[0m sh[dim] \u001b[38;5;241m=\u001b[39m num_classes\n\u001b[1;32m    158\u001b[0m o \u001b[38;5;241m=\u001b[39m torch\u001b[38;5;241m.\u001b[39mzeros(size\u001b[38;5;241m=\u001b[39msh, dtype\u001b[38;5;241m=\u001b[39mdtype, device\u001b[38;5;241m=\u001b[39mlabels\u001b[38;5;241m.\u001b[39mdevice)\n\u001b[0;32m--> 159\u001b[0m labels \u001b[38;5;241m=\u001b[39m \u001b[43mo\u001b[49m\u001b[38;5;241;43m.\u001b[39;49m\u001b[43mscatter_\u001b[49m\u001b[43m(\u001b[49m\u001b[43mdim\u001b[49m\u001b[38;5;241;43m=\u001b[39;49m\u001b[43mdim\u001b[49m\u001b[43m,\u001b[49m\u001b[43m \u001b[49m\u001b[43mindex\u001b[49m\u001b[38;5;241;43m=\u001b[39;49m\u001b[43mlabels\u001b[49m\u001b[38;5;241;43m.\u001b[39;49m\u001b[43mlong\u001b[49m\u001b[43m(\u001b[49m\u001b[43m)\u001b[49m\u001b[43m,\u001b[49m\u001b[43m \u001b[49m\u001b[43mvalue\u001b[49m\u001b[38;5;241;43m=\u001b[39;49m\u001b[38;5;241;43m1\u001b[39;49m\u001b[43m)\u001b[49m\n\u001b[1;32m    161\u001b[0m \u001b[38;5;28;01mreturn\u001b[39;00m labels\n",
      "File \u001b[0;32m~/miniconda3/envs/pytorch/lib/python3.9/site-packages/monai/data/meta_tensor.py:268\u001b[0m, in \u001b[0;36mMetaTensor.__torch_function__\u001b[0;34m(cls, func, types, args, kwargs)\u001b[0m\n\u001b[1;32m    266\u001b[0m \u001b[38;5;28;01mif\u001b[39;00m kwargs \u001b[38;5;129;01mis\u001b[39;00m \u001b[38;5;28;01mNone\u001b[39;00m:\n\u001b[1;32m    267\u001b[0m     kwargs \u001b[38;5;241m=\u001b[39m {}\n\u001b[0;32m--> 268\u001b[0m ret \u001b[38;5;241m=\u001b[39m \u001b[38;5;28;43msuper\u001b[39;49m\u001b[43m(\u001b[49m\u001b[43m)\u001b[49m\u001b[38;5;241;43m.\u001b[39;49m\u001b[43m__torch_function__\u001b[49m\u001b[43m(\u001b[49m\u001b[43mfunc\u001b[49m\u001b[43m,\u001b[49m\u001b[43m \u001b[49m\u001b[43mtypes\u001b[49m\u001b[43m,\u001b[49m\u001b[43m \u001b[49m\u001b[43margs\u001b[49m\u001b[43m,\u001b[49m\u001b[43m \u001b[49m\u001b[43mkwargs\u001b[49m\u001b[43m)\u001b[49m\n\u001b[1;32m    269\u001b[0m \u001b[38;5;66;03m# if `out` has been used as argument, metadata is not copied, nothing to do.\u001b[39;00m\n\u001b[1;32m    270\u001b[0m \u001b[38;5;66;03m# if \"out\" in kwargs:\u001b[39;00m\n\u001b[1;32m    271\u001b[0m \u001b[38;5;66;03m#     return ret\u001b[39;00m\n\u001b[1;32m    272\u001b[0m \u001b[38;5;28;01mif\u001b[39;00m _not_requiring_metadata(ret):\n",
      "File \u001b[0;32m~/miniconda3/envs/pytorch/lib/python3.9/site-packages/torch/_tensor.py:1295\u001b[0m, in \u001b[0;36mTensor.__torch_function__\u001b[0;34m(cls, func, types, args, kwargs)\u001b[0m\n\u001b[1;32m   1292\u001b[0m     \u001b[38;5;28;01mreturn\u001b[39;00m \u001b[38;5;28mNotImplemented\u001b[39m\n\u001b[1;32m   1294\u001b[0m \u001b[38;5;28;01mwith\u001b[39;00m _C\u001b[38;5;241m.\u001b[39mDisableTorchFunctionSubclass():\n\u001b[0;32m-> 1295\u001b[0m     ret \u001b[38;5;241m=\u001b[39m \u001b[43mfunc\u001b[49m\u001b[43m(\u001b[49m\u001b[38;5;241;43m*\u001b[39;49m\u001b[43margs\u001b[49m\u001b[43m,\u001b[49m\u001b[43m \u001b[49m\u001b[38;5;241;43m*\u001b[39;49m\u001b[38;5;241;43m*\u001b[39;49m\u001b[43mkwargs\u001b[49m\u001b[43m)\u001b[49m\n\u001b[1;32m   1296\u001b[0m     \u001b[38;5;28;01mif\u001b[39;00m func \u001b[38;5;129;01min\u001b[39;00m get_default_nowrap_functions():\n\u001b[1;32m   1297\u001b[0m         \u001b[38;5;28;01mreturn\u001b[39;00m ret\n",
      "\u001b[0;31mRuntimeError\u001b[0m: index 2 is out of bounds for dimension 1 with size 2"
     ]
    }
   ],
   "source": [
    "for step, batch in enumerate(train_loader):\n",
    "    x, y = batch[\"image\"], batch[\"label\"].float()\n",
    "    logit_map = model(x)\n",
    "    loss = loss_function(logit_map, y)\n",
    "    print(x.shape, y.shape, torch.max(y), loss.item())\n",
    "    # break"
   ]
  },
  {
   "cell_type": "code",
   "execution_count": 16,
   "metadata": {},
   "outputs": [
    {
     "name": "stdout",
     "output_type": "stream",
     "text": [
      "torch.Size([4, 1, 128, 128, 16]) torch.Size([4, 1, 128, 128, 16]) tensor(2.)\n"
     ]
    }
   ],
   "source": [
    "print(x.shape, y.shape, torch.max(y))"
   ]
  },
  {
   "cell_type": "code",
   "execution_count": 35,
   "metadata": {},
   "outputs": [],
   "source": [
    "import numpy as np\n",
    "import os \n",
    "from glob import glob\n",
    "import matplotlib.pyplot as plt"
   ]
  },
  {
   "cell_type": "code",
   "execution_count": 24,
   "metadata": {},
   "outputs": [],
   "source": [
    "file_root = \"/Users/qixinhu/Project/CUHK/Prostate/PAIsData/0426/qixin/SEG\"\n",
    "file_list = glob(os.path.join(file_root, 'PAI*.npz'))"
   ]
  },
  {
   "cell_type": "code",
   "execution_count": 27,
   "metadata": {},
   "outputs": [
    {
     "name": "stdout",
     "output_type": "stream",
     "text": [
      "PAIs256.npz (1, 224, 224, 30) (1, 224, 224, 30) 1\n",
      "PAIs242.npz (1, 224, 224, 30) (1, 224, 224, 30) 1\n",
      "PAIs281.npz (1, 224, 224, 30) (1, 224, 224, 30) 1\n",
      "PAIs068.npz (1, 224, 224, 30) (1, 224, 224, 30) 1\n",
      "PAIs054.npz (1, 224, 224, 30) (1, 224, 224, 30) 1\n",
      "PAIs040.npz (1, 224, 224, 30) (1, 224, 224, 30) 1\n",
      "PAIs083.npz (1, 224, 224, 30) (1, 224, 224, 30) 1\n",
      "PAIs108.npz (1, 224, 224, 30) (1, 224, 224, 30) 1\n",
      "PAIs120.npz (1, 224, 224, 30) (1, 224, 224, 30) 1\n",
      "PAIs135.npz (1, 224, 224, 30) (1, 224, 224, 30) 1\n",
      "PAIs121.npz (1, 224, 224, 30) (1, 224, 224, 30) 1\n",
      "PAIs109.npz (1, 224, 224, 30) (1, 224, 224, 30) 1\n",
      "PAIs082.npz (1, 224, 224, 30) (1, 224, 224, 30) 1\n",
      "PAIs096.npz (1, 224, 224, 30) (1, 224, 224, 30) 1\n",
      "PAIs055.npz (1, 224, 224, 30) (1, 224, 224, 30) 1\n",
      "PAIs069.npz (1, 224, 224, 30) (1, 224, 224, 30) 1\n",
      "PAIs280.npz (1, 224, 224, 30) (1, 224, 224, 30) 1\n",
      "PAIs243.npz (1, 224, 224, 30) (1, 224, 224, 30) 1\n",
      "PAIs269.npz (1, 224, 224, 30) (1, 224, 224, 30) 1\n",
      "PAIs241.npz (1, 224, 224, 30) (1, 224, 224, 30) 1\n",
      "PAIs255.npz (1, 224, 224, 30) (1, 224, 224, 30) 1\n",
      "PAIs282.npz (1, 224, 224, 30) (1, 224, 224, 30) 1\n",
      "PAIs043.npz (1, 224, 224, 30) (1, 224, 224, 30) 1\n",
      "PAIs057.npz (1, 224, 224, 30) (1, 224, 224, 30) 1\n",
      "PAIs080.npz (1, 224, 224, 30) (1, 224, 224, 30) 1\n",
      "PAIs094.npz (1, 224, 224, 30) (1, 224, 224, 30) 1\n",
      "PAIs137.npz (1, 224, 224, 30) (1, 224, 224, 30) 1\n",
      "PAIs123.npz (1, 224, 224, 30) (1, 224, 224, 30) 1\n",
      "PAIs122.npz (1, 224, 224, 30) (1, 224, 224, 30) 1\n",
      "PAIs136.npz (1, 224, 224, 30) (1, 224, 224, 30) 1\n",
      "PAIs095.npz (1, 224, 224, 30) (1, 224, 224, 30) 1\n",
      "PAIs056.npz (1, 224, 224, 30) (1, 224, 224, 30) 1\n",
      "PAIs042.npz (1, 224, 224, 30) (1, 224, 224, 30) 1\n",
      "PAIs283.npz (1, 224, 224, 30) (1, 224, 224, 30) 1\n",
      "PAIs254.npz (1, 224, 224, 30) (1, 224, 224, 30) 1\n",
      "PAIs240.npz (1, 224, 224, 30) (1, 224, 224, 30) 1\n",
      "PAIs268.npz (1, 224, 224, 30) (1, 224, 224, 30) 1\n",
      "PAIs244.npz (1, 224, 224, 30) (1, 224, 224, 30) 1\n",
      "PAIs250.npz (1, 224, 224, 30) (1, 224, 224, 30) 1\n",
      "PAIs278.npz (1, 224, 224, 30) (1, 224, 224, 30) 1\n",
      "PAIs046.npz (1, 224, 224, 30) (1, 224, 224, 30) 1\n",
      "PAIs052.npz (1, 224, 224, 30) (1, 224, 224, 30) 1\n",
      "PAIs085.npz (1, 224, 224, 30) (1, 224, 224, 30) 1\n",
      "PAIs091.npz (1, 224, 224, 30) (1, 224, 224, 30) 1\n",
      "PAIs132.npz (1, 224, 224, 30) (1, 224, 224, 30) 1\n",
      "PAIs126.npz (1, 224, 224, 30) (1, 224, 224, 30) 0\n",
      "PAIs127.npz (1, 224, 224, 30) (1, 224, 224, 30) 1\n",
      "PAIs133.npz (1, 224, 224, 30) (1, 224, 224, 30) 1\n",
      "PAIs090.npz (1, 224, 224, 30) (1, 224, 224, 30) 1\n",
      "PAIs084.npz (1, 224, 224, 30) (1, 224, 224, 30) 1\n",
      "PAIs053.npz (1, 224, 224, 30) (1, 224, 224, 30) 1\n",
      "PAIs047.npz (1, 224, 224, 30) (1, 224, 224, 30) 1\n",
      "PAIs286.npz (1, 224, 224, 30) (1, 224, 224, 30) 1\n",
      "PAIs279.npz (1, 224, 224, 30) (1, 224, 224, 30) 1\n",
      "PAIs245.npz (1, 224, 224, 30) (1, 224, 224, 30) 1\n",
      "PAIs253.npz (1, 224, 224, 30) (1, 224, 224, 30) 1\n",
      "PAIs284.npz (1, 224, 224, 30) (1, 224, 224, 30) 1\n",
      "PAIs051.npz (1, 224, 224, 30) (1, 224, 224, 30) 1\n",
      "PAIs045.npz (1, 224, 224, 30) (1, 224, 224, 30) 0\n",
      "PAIs079.npz (1, 224, 224, 30) (1, 224, 224, 30) 1\n",
      "PAIs086.npz (1, 224, 224, 30) (1, 224, 224, 30) 1\n",
      "PAIs125.npz (1, 224, 224, 30) (1, 224, 224, 30) 1\n",
      "PAIs131.npz (1, 224, 224, 30) (1, 224, 224, 30) 1\n",
      "PAIs118.npz (1, 224, 224, 30) (1, 224, 224, 30) 1\n",
      "PAIs130.npz (1, 224, 224, 30) (1, 224, 224, 30) 1\n",
      "PAIs124.npz (1, 224, 224, 30) (1, 224, 224, 30) 1\n",
      "PAIs087.npz (1, 224, 224, 30) (1, 224, 224, 30) 1\n",
      "PAIs093.npz (1, 224, 224, 30) (1, 224, 224, 30) 1\n",
      "PAIs078.npz (1, 224, 224, 30) (1, 224, 224, 30) 1\n",
      "PAIs044.npz (1, 224, 224, 30) (1, 224, 224, 30) 1\n",
      "PAIs050.npz (1, 224, 224, 30) (1, 224, 224, 30) 1\n",
      "PAIs285.npz (1, 224, 224, 30) (1, 224, 224, 30) 1\n",
      "PAIs252.npz (1, 224, 224, 30) (1, 224, 224, 30) 1\n",
      "PAIs209.npz (1, 224, 224, 30) (1, 224, 224, 30) 1\n",
      "PAIs235.npz (1, 224, 224, 30) (1, 224, 224, 30) 1\n",
      "PAIs221.npz (1, 224, 224, 30) (1, 224, 224, 30) 1\n",
      "PAIs037.npz (1, 224, 224, 30) (1, 224, 224, 30) 1\n",
      "PAIs023.npz (1, 224, 224, 30) (1, 224, 224, 30) 1\n",
      "PAIs143.npz (1, 224, 224, 30) (1, 224, 224, 30) 1\n",
      "PAIs157.npz (1, 224, 224, 30) (1, 224, 224, 30) 1\n",
      "PAIs180.npz (1, 224, 224, 30) (1, 224, 224, 30) 1\n",
      "PAIs194.npz (1, 224, 224, 30) (1, 224, 224, 30) 1\n",
      "PAIs195.npz (1, 224, 224, 30) (1, 224, 224, 30) 1\n",
      "PAIs181.npz (1, 224, 224, 30) (1, 224, 224, 30) 1\n",
      "PAIs156.npz (1, 224, 224, 30) (1, 224, 224, 30) 1\n",
      "PAIs142.npz (1, 224, 224, 30) (1, 224, 224, 30) 1\n",
      "PAIs022.npz (1, 224, 224, 30) (1, 224, 224, 30) 1\n",
      "PAIs036.npz (1, 224, 224, 30) (1, 224, 224, 30) 1\n",
      "PAIs220.npz (1, 224, 224, 30) (1, 224, 224, 30) 1\n",
      "PAIs234.npz (1, 224, 224, 30) (1, 224, 224, 30) 1\n",
      "PAIs208.npz (1, 224, 224, 30) (1, 224, 224, 30) 1\n",
      "PAIs222.npz (1, 224, 224, 30) (1, 224, 224, 30) 1\n",
      "PAIs236.npz (1, 224, 224, 30) (1, 224, 224, 30) 1\n",
      "PAIs020.npz (1, 224, 224, 30) (1, 224, 224, 30) 1\n",
      "PAIs168.npz (1, 224, 224, 30) (1, 224, 224, 30) 1\n",
      "PAIs154.npz (1, 224, 224, 30) (1, 224, 224, 30) 1\n",
      "PAIs140.npz (1, 224, 224, 30) (1, 224, 224, 30) 1\n",
      "PAIs197.npz (1, 224, 224, 30) (1, 224, 224, 30) 1\n",
      "PAIs183.npz (1, 224, 224, 30) (1, 224, 224, 30) 1\n",
      "PAIs182.npz (1, 224, 224, 30) (1, 224, 224, 30) 1\n",
      "PAIs141.npz (1, 224, 224, 30) (1, 224, 224, 30) 1\n",
      "PAIs155.npz (1, 224, 224, 30) (1, 224, 224, 30) 1\n",
      "PAIs169.npz (1, 224, 224, 30) (1, 224, 224, 30) 1\n",
      "PAIs035.npz (1, 224, 224, 30) (1, 224, 224, 30) 1\n",
      "PAIs021.npz (1, 224, 224, 30) (1, 224, 224, 30) 1\n",
      "PAIs009.npz (1, 224, 224, 30) (1, 224, 224, 30) 1\n",
      "PAIs237.npz (1, 224, 224, 30) (1, 224, 224, 30) 1\n",
      "PAIs223.npz (1, 224, 224, 30) (1, 224, 224, 30) 1\n",
      "PAIs025.npz (1, 224, 224, 30) (1, 224, 224, 30) 1\n",
      "PAIs031.npz (1, 224, 224, 30) (1, 224, 224, 30) 1\n",
      "PAIs019.npz (1, 224, 224, 30) (1, 224, 224, 30) 1\n",
      "PAIs151.npz (1, 224, 224, 30) (1, 224, 224, 30) 1\n",
      "PAIs145.npz (1, 224, 224, 30) (1, 224, 224, 30) 1\n",
      "PAIs179.npz (1, 224, 224, 30) (1, 224, 224, 30) 1\n",
      "PAIs192.npz (1, 224, 224, 30) (1, 224, 224, 30) 1\n",
      "PAIs186.npz (1, 224, 224, 30) (1, 224, 224, 30) 1\n",
      "PAIs187.npz (1, 224, 224, 30) (1, 224, 224, 30) 1\n",
      "PAIs150.npz (1, 224, 224, 30) (1, 224, 224, 30) 1\n",
      "PAIs018.npz (1, 224, 224, 30) (1, 224, 224, 30) 1\n",
      "PAIs030.npz (1, 224, 224, 30) (1, 224, 224, 30) 1\n",
      "PAIs024.npz (1, 224, 224, 30) (1, 224, 224, 30) 1\n",
      "PAIs232.npz (1, 224, 224, 30) (1, 224, 224, 30) 1\n",
      "PAIs226.npz (1, 224, 224, 30) (1, 224, 224, 30) 1\n",
      "PAIs230.npz (1, 224, 224, 30) (1, 224, 224, 30) 1\n",
      "PAIs224.npz (1, 224, 224, 30) (1, 224, 224, 30) 1\n",
      "PAIs218.npz (1, 224, 224, 30) (1, 224, 224, 30) 1\n",
      "PAIs032.npz (1, 224, 224, 30) (1, 224, 224, 30) 1\n",
      "PAIs026.npz (1, 224, 224, 30) (1, 224, 224, 30) 1\n",
      "PAIs146.npz (1, 224, 224, 30) (1, 224, 224, 30) 1\n",
      "PAIs152.npz (1, 224, 224, 30) (1, 224, 224, 30) 1\n",
      "PAIs185.npz (1, 224, 224, 30) (1, 224, 224, 30) 1\n",
      "PAIs191.npz (1, 224, 224, 30) (1, 224, 224, 30) 1\n",
      "PAIs184.npz (1, 224, 224, 30) (1, 224, 224, 30) 1\n",
      "PAIs153.npz (1, 224, 224, 30) (1, 224, 224, 30) 1\n",
      "PAIs147.npz (1, 224, 224, 30) (1, 224, 224, 30) 1\n",
      "PAIs027.npz (1, 224, 224, 30) (1, 224, 224, 30) 1\n",
      "PAIs033.npz (1, 224, 224, 30) (1, 224, 224, 30) 1\n",
      "PAIs219.npz (1, 224, 224, 30) (1, 224, 224, 30) 1\n",
      "PAIs225.npz (1, 224, 224, 30) (1, 224, 224, 30) 1\n",
      "PAIs231.npz (1, 224, 224, 30) (1, 224, 224, 30) 1\n",
      "PAIs228.npz (1, 224, 224, 30) (1, 224, 224, 30) 1\n",
      "PAIs214.npz (1, 224, 224, 30) (1, 224, 224, 30) 1\n",
      "PAIs016.npz (1, 224, 224, 30) (1, 224, 224, 30) 1\n",
      "PAIs002.npz (1, 224, 224, 30) (1, 224, 224, 30) 1\n",
      "PAIs162.npz (1, 224, 224, 30) (1, 224, 224, 30) 1\n",
      "PAIs176.npz (1, 224, 224, 30) (1, 224, 224, 30) 1\n",
      "PAIs189.npz (1, 224, 224, 30) (1, 224, 224, 30) 1\n",
      "PAIs188.npz (1, 224, 224, 30) (1, 224, 224, 30) 1\n",
      "PAIs177.npz (1, 224, 224, 30) (1, 224, 224, 30) 1\n",
      "PAIs163.npz (1, 224, 224, 30) (1, 224, 224, 30) 1\n",
      "PAIs003.npz (1, 224, 224, 30) (1, 224, 224, 30) 1\n",
      "PAIs017.npz (1, 224, 224, 30) (1, 224, 224, 30) 1\n",
      "PAIs201.npz (1, 224, 224, 30) (1, 224, 224, 30) 1\n",
      "PAIs215.npz (1, 224, 224, 30) (1, 224, 224, 30) 1\n",
      "PAIs229.npz (1, 224, 224, 30) (1, 224, 224, 30) 1\n",
      "PAIs203.npz (1, 224, 224, 30) (1, 224, 224, 30) 1\n",
      "PAIs217.npz (1, 224, 224, 30) (1, 224, 224, 30) 1\n",
      "PAIs029.npz (1, 224, 224, 30) (1, 224, 224, 30) 1\n",
      "PAIs001.npz (1, 224, 224, 30) (1, 224, 224, 30) 1\n",
      "PAIs015.npz (1, 224, 224, 30) (1, 224, 224, 30) 1\n",
      "PAIs149.npz (1, 224, 224, 30) (1, 224, 224, 30) 1\n",
      "PAIs175.npz (1, 224, 224, 30) (1, 224, 224, 30) 1\n",
      "PAIs161.npz (1, 224, 224, 30) (1, 224, 224, 30) 1\n",
      "PAIs160.npz (1, 224, 224, 30) (1, 224, 224, 30) 1\n",
      "PAIs174.npz (1, 224, 224, 30) (1, 224, 224, 30) 1\n",
      "PAIs148.npz (1, 224, 224, 30) (1, 224, 224, 30) 1\n",
      "PAIs014.npz (1, 224, 224, 30) (1, 224, 224, 30) 1\n",
      "PAIs028.npz (1, 224, 224, 30) (1, 224, 224, 30) 1\n",
      "PAIs202.npz (1, 224, 224, 30) (1, 224, 224, 30) 1\n",
      "PAIs206.npz (1, 224, 224, 30) (1, 224, 224, 30) 1\n",
      "PAIs212.npz (1, 224, 224, 30) (1, 224, 224, 30) 1\n",
      "PAIs004.npz (1, 224, 224, 30) (1, 224, 224, 30) 1\n",
      "PAIs010.npz (1, 224, 224, 30) (1, 224, 224, 30) 1\n",
      "PAIs038.npz (1, 224, 224, 30) (1, 224, 224, 30) 1\n",
      "PAIs170.npz (1, 224, 224, 30) (1, 224, 224, 30) 1\n",
      "PAIs164.npz (1, 224, 224, 30) (1, 224, 224, 30) 1\n",
      "PAIs158.npz (1, 224, 224, 30) (1, 224, 224, 30) 1\n",
      "PAIs159.npz (1, 224, 224, 30) (1, 224, 224, 30) 1\n",
      "PAIs165.npz (1, 224, 224, 30) (1, 224, 224, 30) 1\n",
      "PAIs171.npz (1, 224, 224, 30) (1, 224, 224, 30) 1\n",
      "PAIs039.npz (1, 224, 224, 30) (1, 224, 224, 30) 1\n",
      "PAIs011.npz (1, 224, 224, 30) (1, 224, 224, 30) 1\n",
      "PAIs005.npz (1, 224, 224, 30) (1, 224, 224, 30) 1\n",
      "PAIs213.npz (1, 224, 224, 30) (1, 224, 224, 30) 1\n",
      "PAIs207.npz (1, 224, 224, 30) (1, 224, 224, 30) 1\n",
      "PAIs239.npz (1, 224, 224, 30) (1, 224, 224, 30) 1\n",
      "PAIs013.npz (1, 224, 224, 30) (1, 224, 224, 30) 1\n",
      "PAIs007.npz (1, 224, 224, 30) (1, 224, 224, 30) 1\n",
      "PAIs167.npz (1, 224, 224, 30) (1, 224, 224, 30) 1\n",
      "PAIs173.npz (1, 224, 224, 30) (1, 224, 224, 30) 1\n",
      "PAIs198.npz (1, 224, 224, 30) (1, 224, 224, 30) 1\n",
      "PAIs199.npz (1, 224, 224, 30) (1, 224, 224, 30) 1\n",
      "PAIs166.npz (1, 224, 224, 30) (1, 224, 224, 30) 1\n",
      "PAIs006.npz (1, 224, 224, 30) (1, 224, 224, 30) 1\n",
      "PAIs012.npz (1, 224, 224, 30) (1, 224, 224, 30) 1\n",
      "PAIs238.npz (1, 224, 224, 30) (1, 224, 224, 30) 1\n",
      "PAIs204.npz (1, 224, 224, 30) (1, 224, 224, 30) 1\n",
      "PAIs210.npz (1, 224, 224, 30) (1, 224, 224, 30) 1\n",
      "PAIs277.npz (1, 224, 224, 30) (1, 224, 224, 30) 1\n",
      "PAIs263.npz (1, 224, 224, 30) (1, 224, 224, 30) 1\n",
      "PAIs075.npz (1, 224, 224, 30) (1, 224, 224, 30) 1\n",
      "PAIs061.npz (1, 224, 224, 30) (1, 224, 224, 30) 1\n",
      "PAIs129.npz (1, 224, 224, 30) (1, 224, 224, 30) 1\n",
      "PAIs101.npz (1, 224, 224, 30) (1, 224, 224, 30) 1\n",
      "PAIs115.npz (1, 224, 224, 30) (1, 224, 224, 30) 1\n",
      "PAIs114.npz (1, 224, 224, 30) (1, 224, 224, 30) 1\n",
      "PAIs128.npz (1, 224, 224, 30) (1, 224, 224, 30) 1\n",
      "PAIs060.npz (1, 224, 224, 30) (1, 224, 224, 30) 1\n",
      "PAIs074.npz (1, 224, 224, 30) (1, 224, 224, 30) 2\n",
      "PAIs048.npz (1, 224, 224, 30) (1, 224, 224, 30) 1\n",
      "PAIs262.npz (1, 224, 224, 30) (1, 224, 224, 30) 1\n",
      "PAIs276.npz (1, 224, 224, 30) (1, 224, 224, 30) 1\n",
      "PAIs248.npz (1, 224, 224, 30) (1, 224, 224, 30) 1\n",
      "PAIs274.npz (1, 224, 224, 30) (1, 224, 224, 30) 1\n",
      "PAIs062.npz (1, 224, 224, 30) (1, 224, 224, 30) 1\n",
      "PAIs076.npz (1, 224, 224, 30) (1, 224, 224, 30) 1\n",
      "PAIs116.npz (1, 224, 224, 30) (1, 224, 224, 30) 1\n",
      "PAIs103.npz (1, 224, 224, 30) (1, 224, 224, 30) 1\n",
      "PAIs117.npz (1, 224, 224, 30) (1, 224, 224, 30) 1\n",
      "PAIs088.npz (1, 224, 224, 30) (1, 224, 224, 30) 1\n",
      "PAIs077.npz (1, 224, 224, 30) (1, 224, 224, 30) 1\n",
      "PAIs063.npz (1, 224, 224, 30) (1, 224, 224, 30) 1\n",
      "PAIs275.npz (1, 224, 224, 30) (1, 224, 224, 30) 1\n",
      "PAIs261.npz (1, 224, 224, 30) (1, 224, 224, 30) 1\n",
      "PAIs249.npz (1, 224, 224, 30) (1, 224, 224, 30) 1\n",
      "PAIs265.npz (1, 224, 224, 30) (1, 224, 224, 30) 1\n",
      "PAIs271.npz (1, 224, 224, 30) (1, 224, 224, 30) 1\n",
      "PAIs067.npz (1, 224, 224, 30) (1, 224, 224, 30) 1\n",
      "PAIs073.npz (1, 224, 224, 30) (1, 224, 224, 30) 1\n",
      "PAIs098.npz (1, 224, 224, 30) (1, 224, 224, 30) 1\n",
      "PAIs113.npz (1, 224, 224, 30) (1, 224, 224, 30) 1\n",
      "PAIs107.npz (1, 224, 224, 30) (1, 224, 224, 30) 1\n",
      "PAIs112.npz (1, 224, 224, 30) (1, 224, 224, 30) 0\n",
      "PAIs099.npz (1, 224, 224, 30) (1, 224, 224, 30) 1\n",
      "PAIs072.npz (1, 224, 224, 30) (1, 224, 224, 30) 1\n",
      "PAIs066.npz (1, 224, 224, 30) (1, 224, 224, 30) 1\n",
      "PAIs258.npz (1, 224, 224, 30) (1, 224, 224, 30) 1\n",
      "PAIs270.npz (1, 224, 224, 30) (1, 224, 224, 30) 1\n",
      "PAIs264.npz (1, 224, 224, 30) (1, 224, 224, 30) 1\n",
      "PAIs272.npz (1, 224, 224, 30) (1, 224, 224, 30) 1\n",
      "PAIs266.npz (1, 224, 224, 30) (1, 224, 224, 30) 1\n",
      "PAIs070.npz (1, 224, 224, 30) (1, 224, 224, 30) 1\n",
      "PAIs064.npz (1, 224, 224, 30) (1, 224, 224, 30) 1\n",
      "PAIs058.npz (1, 224, 224, 30) (1, 224, 224, 30) 1\n",
      "PAIs104.npz (1, 224, 224, 30) (1, 224, 224, 30) 1\n",
      "PAIs110.npz (1, 224, 224, 30) (1, 224, 224, 30) 1\n",
      "PAIs138.npz (1, 224, 224, 30) (1, 224, 224, 30) 1\n",
      "PAIs139.npz (1, 224, 224, 30) (1, 224, 224, 30) 1\n",
      "PAIs105.npz (1, 224, 224, 30) (1, 224, 224, 30) 1\n",
      "PAIs059.npz (1, 224, 224, 30) (1, 224, 224, 30) 1\n",
      "PAIs065.npz (1, 224, 224, 30) (1, 224, 224, 30) 1\n",
      "PAIs071.npz (1, 224, 224, 30) (1, 224, 224, 30) 1\n",
      "PAIs267.npz (1, 224, 224, 30) (1, 224, 224, 30) 1\n",
      "PAIs273.npz (1, 224, 224, 30) (1, 224, 224, 30) 1\n"
     ]
    }
   ],
   "source": [
    "for item in file_list:\n",
    "    data = np.load(item)\n",
    "    name = item.split('/')[-1]\n",
    "    img = np.expand_dims(data['img'][2,...], axis=0)\n",
    "    mask = np.expand_dims(data['mask'][2,...], axis=0)\n",
    "    print(name,img.shape, mask.shape, np.max(mask))"
   ]
  },
  {
   "cell_type": "code",
   "execution_count": 36,
   "metadata": {},
   "outputs": [],
   "source": [
    "bad_case = \"PAIs074.npz\"\n",
    "bad_data = np.load(os.path.join(file_root, bad_case))\n",
    "img = bad_data['img'][2,...]\n",
    "mask = bad_data['mask'][2,...]\n",
    "\n",
    "z_start, z_end = np.where(np.any(mask==2, axis=(0, 1)))[0][[0, -1]]"
   ]
  },
  {
   "cell_type": "code",
   "execution_count": 37,
   "metadata": {},
   "outputs": [
    {
     "name": "stdout",
     "output_type": "stream",
     "text": [
      "7 7\n"
     ]
    }
   ],
   "source": [
    "print(z_start, z_end)"
   ]
  },
  {
   "cell_type": "code",
   "execution_count": 58,
   "metadata": {},
   "outputs": [
    {
     "data": {
      "text/plain": [
       "<matplotlib.image.AxesImage at 0x3f21eea60>"
      ]
     },
     "execution_count": 58,
     "metadata": {},
     "output_type": "execute_result"
    },
    {
     "data": {
      "image/png": "[encoded data removed]",
      "text/plain": [
       "<Figure size 640x480 with 1 Axes>"
      ]
     },
     "metadata": {},
     "output_type": "display_data"
    }
   ],
   "source": [
    "plt.imshow(mask[...,7])"
   ]
  },
  {
   "cell_type": "code",
   "execution_count": 53,
   "metadata": {},
   "outputs": [],
   "source": [
    "import SimpleITK as sitk\n",
    "from scipy import ndimage"
   ]
  },
  {
   "cell_type": "code",
   "execution_count": 55,
   "metadata": {},
   "outputs": [
    {
     "data": {
      "text/plain": [
       "1"
      ]
     },
     "execution_count": 55,
     "metadata": {},
     "output_type": "execute_result"
    }
   ],
   "source": [
    "org_root = \"/Users/qixinhu/Project/CUHK/Prostate/PAIsData/0426/tingting/PAIs074/PAIs074_ADC_gt.nii.gz\"\n",
    "adc_gt = sitk.ReadImage(org_root)\n",
    "adc_gt = sitk.GetArrayFromImage(adc_gt)\n",
    "adc_gt_old = np.transpose(adc_gt, (1, 2, 0))\n",
    "adc_gt = np.zeros_like(adc_gt_old)\n",
    "adc_gt[adc_gt_old>1] = 1\n",
    "\n",
    "x,y,z = adc_gt.shape\n",
    "resize_x,resize_y,resize_z = 224, 224, 30\n",
    "\n",
    "zoom_adc_gt = ndimage.zoom(adc_gt, zoom=(resize_x/x, resize_y/y, resize_z/z), mode=\"nearest\",order=0)\n",
    "np.max(zoom_adc_gt)"
   ]
  },
  {
   "cell_type": "code",
   "execution_count": 57,
   "metadata": {},
   "outputs": [
    {
     "data": {
      "text/plain": [
       "<matplotlib.image.AxesImage at 0x3f0f7f0a0>"
      ]
     },
     "execution_count": 57,
     "metadata": {},
     "output_type": "execute_result"
    },
    {
     "data": {
      "image/png": "[encoded data removed]",
      "text/plain": [
       "<Figure size 640x480 with 1 Axes>"
      ]
     },
     "metadata": {},
     "output_type": "display_data"
    }
   ],
   "source": [
    "plt.imshow(zoom_adc_gt[...,7])"
   ]
  }
 ],
 "metadata": {
  "kernelspec": {
   "display_name": "pytorch",
   "language": "python",
   "name": "python3"
  },
  "language_info": {
   "codemirror_mode": {
    "name": "ipython",
    "version": 3
   },
   "file_extension": ".py",
   "mimetype": "text/x-python",
   "name": "python",
   "nbconvert_exporter": "python",
   "pygments_lexer": "ipython3",
   "version": "3.9.18"
  }
 },
 "nbformat": 4,
 "nbformat_minor": 2
}
